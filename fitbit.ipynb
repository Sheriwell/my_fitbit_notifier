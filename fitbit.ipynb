{
 "cells": [
  {
   "cell_type": "code",
   "execution_count": 6,
   "id": "7586bbe0-5a58-47cb-978b-80f0d2ea1fb3",
   "metadata": {},
   "outputs": [],
   "source": [
    "import mfn\n",
    "from mfn import MyFitbitNotifier"
   ]
  },
  {
   "cell_type": "code",
   "execution_count": 7,
   "id": "fef069aa-3589-494c-a7c9-09c835866954",
   "metadata": {},
   "outputs": [
    {
     "name": "stdout",
     "output_type": "stream",
     "text": [
      "=== 最新のデータをお知らせします ===\n",
      "今日までの平均歩数: 7489歩\n",
      "今日(1日) で平均8000歩：毎日8000歩が必要\n",
      "明日(2日) で平均8000歩：毎日8000歩が必要\n",
      "3日で平均8000歩：毎日8000歩が必要\n",
      "4日で平均8000歩：毎日8000歩が必要\n",
      "5日で平均8000歩：毎日8000歩が必要\n",
      "6日で平均8000歩：毎日8000歩が必要\n",
      "7日で平均8000歩：毎日8000歩が必要\n",
      "8日で平均8000歩：毎日8000歩が必要\n",
      "9日で平均8000歩：毎日8000歩が必要\n",
      "10日で平均8000歩：毎日8000歩が必要\n",
      "Q-Endに平均8000歩：毎日8000歩が必要\n"
     ]
    }
   ],
   "source": [
    "notifier = MyFitbitNotifier()\n",
    "notifier.calculate_step_objective(10)\n",
    "notifier.push_say_something(\"=== 最新のデータをお知らせします ===\")\n",
    "notifier.push_average_steps(days_from=0)\n",
    "notifier.push_steps_for_objective()"
   ]
  },
  {
   "cell_type": "code",
   "execution_count": null,
   "id": "35733902-400a-45cd-ad60-55490ed819c3",
   "metadata": {},
   "outputs": [],
   "source": []
  }
 ],
 "metadata": {
  "kernelspec": {
   "display_name": "Python 3 (ipykernel)",
   "language": "python",
   "name": "python3"
  },
  "language_info": {
   "codemirror_mode": {
    "name": "ipython",
    "version": 3
   },
   "file_extension": ".py",
   "mimetype": "text/x-python",
   "name": "python",
   "nbconvert_exporter": "python",
   "pygments_lexer": "ipython3",
   "version": "3.9.6"
  }
 },
 "nbformat": 4,
 "nbformat_minor": 5
}
